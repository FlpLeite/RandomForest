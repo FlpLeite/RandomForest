{
 "cells": [
  {
   "cell_type": "markdown",
   "id": "9bbf84bc",
   "metadata": {},
   "source": [
    "\n",
    "# Random Forest"
   ]
  },
  {
   "cell_type": "code",
   "execution_count": null,
   "id": "239f9ec9",
   "metadata": {},
   "outputs": [],
   "source": [
    "\n",
    "import pandas as pd\n",
    "import matplotlib.pyplot as plt\n",
    "import seaborn as sns\n",
    "from sklearn.tree import DecisionTreeClassifier, plot_tree\n",
    "from sklearn.ensemble import RandomForestClassifier, BaggingClassifier\n",
    "from sklearn.model_selection import train_test_split, GridSearchCV\n",
    "from sklearn.metrics import accuracy_score, confusion_matrix, ConfusionMatrixDisplay, classification_report\n"
   ]
  },
  {
   "cell_type": "markdown",
   "id": "f1f6264d",
   "metadata": {},
   "source": [
    "\n",
    "## 1. O que é uma Árvore de Decisão?\n",
    "\n",
    "Uma árvore de decisão é um algoritmo de aprendizado supervisionado que divide dados em grupos baseando-se em decisões lógicas.\n",
    "Cada nó interno testa uma condição e as folhas trazem as previsões. São fáceis de interpretar, mas instáveis quando isoladas.\n"
   ]
  },
  {
   "cell_type": "code",
   "execution_count": null,
   "id": "4e2dc9de",
   "metadata": {},
   "outputs": [
    {
     "data": {
      "text/html": [
       "<div>\n",
       "<style scoped>\n",
       "    .dataframe tbody tr th:only-of-type {\n",
       "        vertical-align: middle;\n",
       "    }\n",
       "\n",
       "    .dataframe tbody tr th {\n",
       "        vertical-align: top;\n",
       "    }\n",
       "\n",
       "    .dataframe thead th {\n",
       "        text-align: right;\n",
       "    }\n",
       "</style>\n",
       "<table border=\"1\" class=\"dataframe\">\n",
       "  <thead>\n",
       "    <tr style=\"text-align: right;\">\n",
       "      <th></th>\n",
       "      <th>fixed acidity</th>\n",
       "      <th>volatile acidity</th>\n",
       "      <th>citric acid</th>\n",
       "      <th>residual sugar</th>\n",
       "      <th>chlorides</th>\n",
       "      <th>free sulfur dioxide</th>\n",
       "      <th>total sulfur dioxide</th>\n",
       "      <th>density</th>\n",
       "      <th>pH</th>\n",
       "      <th>sulphates</th>\n",
       "      <th>alcohol</th>\n",
       "      <th>quality</th>\n",
       "      <th>total_acidity</th>\n",
       "      <th>strong_wine</th>\n",
       "      <th>good_quality</th>\n",
       "      <th>alcohol_cat</th>\n",
       "    </tr>\n",
       "  </thead>\n",
       "  <tbody>\n",
       "    <tr>\n",
       "      <th>0</th>\n",
       "      <td>7.4</td>\n",
       "      <td>0.70</td>\n",
       "      <td>0.00</td>\n",
       "      <td>1.9</td>\n",
       "      <td>0.076</td>\n",
       "      <td>11.0</td>\n",
       "      <td>34.0</td>\n",
       "      <td>0.9978</td>\n",
       "      <td>3.51</td>\n",
       "      <td>0.56</td>\n",
       "      <td>9.4</td>\n",
       "      <td>5</td>\n",
       "      <td>8.10</td>\n",
       "      <td>0</td>\n",
       "      <td>0</td>\n",
       "      <td>low</td>\n",
       "    </tr>\n",
       "    <tr>\n",
       "      <th>1</th>\n",
       "      <td>7.8</td>\n",
       "      <td>0.88</td>\n",
       "      <td>0.00</td>\n",
       "      <td>2.6</td>\n",
       "      <td>0.098</td>\n",
       "      <td>25.0</td>\n",
       "      <td>67.0</td>\n",
       "      <td>0.9968</td>\n",
       "      <td>3.20</td>\n",
       "      <td>0.68</td>\n",
       "      <td>9.8</td>\n",
       "      <td>5</td>\n",
       "      <td>8.68</td>\n",
       "      <td>0</td>\n",
       "      <td>0</td>\n",
       "      <td>low</td>\n",
       "    </tr>\n",
       "    <tr>\n",
       "      <th>2</th>\n",
       "      <td>7.8</td>\n",
       "      <td>0.76</td>\n",
       "      <td>0.04</td>\n",
       "      <td>2.3</td>\n",
       "      <td>0.092</td>\n",
       "      <td>15.0</td>\n",
       "      <td>54.0</td>\n",
       "      <td>0.9970</td>\n",
       "      <td>3.26</td>\n",
       "      <td>0.65</td>\n",
       "      <td>9.8</td>\n",
       "      <td>5</td>\n",
       "      <td>8.56</td>\n",
       "      <td>0</td>\n",
       "      <td>0</td>\n",
       "      <td>low</td>\n",
       "    </tr>\n",
       "    <tr>\n",
       "      <th>3</th>\n",
       "      <td>11.2</td>\n",
       "      <td>0.28</td>\n",
       "      <td>0.56</td>\n",
       "      <td>1.9</td>\n",
       "      <td>0.075</td>\n",
       "      <td>17.0</td>\n",
       "      <td>60.0</td>\n",
       "      <td>0.9980</td>\n",
       "      <td>3.16</td>\n",
       "      <td>0.58</td>\n",
       "      <td>9.8</td>\n",
       "      <td>6</td>\n",
       "      <td>11.48</td>\n",
       "      <td>0</td>\n",
       "      <td>0</td>\n",
       "      <td>low</td>\n",
       "    </tr>\n",
       "    <tr>\n",
       "      <th>4</th>\n",
       "      <td>7.4</td>\n",
       "      <td>0.70</td>\n",
       "      <td>0.00</td>\n",
       "      <td>1.9</td>\n",
       "      <td>0.076</td>\n",
       "      <td>11.0</td>\n",
       "      <td>34.0</td>\n",
       "      <td>0.9978</td>\n",
       "      <td>3.51</td>\n",
       "      <td>0.56</td>\n",
       "      <td>9.4</td>\n",
       "      <td>5</td>\n",
       "      <td>8.10</td>\n",
       "      <td>0</td>\n",
       "      <td>0</td>\n",
       "      <td>low</td>\n",
       "    </tr>\n",
       "  </tbody>\n",
       "</table>\n",
       "</div>"
      ],
      "text/plain": [
       "   fixed acidity  volatile acidity  citric acid  residual sugar  chlorides  \\\n",
       "0            7.4              0.70         0.00             1.9      0.076   \n",
       "1            7.8              0.88         0.00             2.6      0.098   \n",
       "2            7.8              0.76         0.04             2.3      0.092   \n",
       "3           11.2              0.28         0.56             1.9      0.075   \n",
       "4            7.4              0.70         0.00             1.9      0.076   \n",
       "\n",
       "   free sulfur dioxide  total sulfur dioxide  density    pH  sulphates  \\\n",
       "0                 11.0                  34.0   0.9978  3.51       0.56   \n",
       "1                 25.0                  67.0   0.9968  3.20       0.68   \n",
       "2                 15.0                  54.0   0.9970  3.26       0.65   \n",
       "3                 17.0                  60.0   0.9980  3.16       0.58   \n",
       "4                 11.0                  34.0   0.9978  3.51       0.56   \n",
       "\n",
       "   alcohol  quality  total_acidity  strong_wine  good_quality alcohol_cat  \n",
       "0      9.4        5           8.10            0             0         low  \n",
       "1      9.8        5           8.68            0             0         low  \n",
       "2      9.8        5           8.56            0             0         low  \n",
       "3      9.8        6          11.48            0             0         low  \n",
       "4      9.4        5           8.10            0             0         low  "
      ]
     },
     "execution_count": 22,
     "metadata": {},
     "output_type": "execute_result"
    }
   ],
   "source": [
    "df = pd.read_csv(\"../datasets/wine_fe.csv\")\n",
    "df.columns = df.columns\n",
    "df.head()"
   ]
  },
  {
   "cell_type": "code",
   "execution_count": null,
   "id": "3afaac98",
   "metadata": {},
   "outputs": [
    {
     "name": "stdout",
     "output_type": "stream",
     "text": [
      "Árvore simples - Acurácia: 0.909375\n"
     ]
    }
   ],
   "source": [
    "X_simple = df[[\"alcohol\", \"sulphates\", \"volatile acidity\"]]\n",
    "y_simple = (df[\"quality\"] >= 7).astype(int)\n",
    "\n",
    "X_tr_s, X_te_s, y_tr_s, y_te_s = train_test_split(\n",
    "    X_simple, y_simple, test_size=0.2, random_state=42, stratify=y_simple\n",
    ")\n",
    "\n",
    "dt = DecisionTreeClassifier(criterion=\"gini\", max_depth=4, random_state=42)\n",
    "dt.fit(X_tr_s, y_tr_s)\n",
    "\n",
    "y_pred_s = dt.predict(X_te_s)\n",
    "print(\"Árvore simples - Acurácia:\", accuracy_score(y_te_s, y_pred_s))"
   ]
  },
  {
   "cell_type": "markdown",
   "id": "aee31101",
   "metadata": {},
   "source": [
    "\n",
    "## 2. O que é Ensemble Learning?\n",
    "\n",
    "Ensemble learning combina múltiplos modelos simples (fracos) para criar um modelo mais robusto.\n",
    "No Random Forest, usamos o **Bagging**: várias árvores treinadas em amostras diferentes (bootstrap sampling) e subconjuntos aleatórios de features.\n"
   ]
  },
  {
   "cell_type": "code",
   "execution_count": null,
   "id": "083a03fd",
   "metadata": {},
   "outputs": [
    {
     "name": "stdout",
     "output_type": "stream",
     "text": [
      "Bagging (10 DTs) - Acurácia: 0.925\n"
     ]
    }
   ],
   "source": [
    "\n",
    "bag = BaggingClassifier(\n",
    "    estimator=DecisionTreeClassifier(),\n",
    "    n_estimators=10,\n",
    "    random_state=42\n",
    ")\n",
    "X = df.drop([\"quality\", \"good_quality\"], axis=1)\n",
    "y = df[\"good_quality\"]\n",
    "X = pd.get_dummies(X, columns=[\"alcohol_cat\"], drop_first=True)\n",
    "X_train, X_test, y_train, y_test = train_test_split(\n",
    "    X, y, test_size=0.2, random_state=42, stratify=y\n",
    ")\n",
    "bag.fit(X_train, y_train)\n",
    "print(\"Bagging (10 DTs) - Acurácia:\", accuracy_score(y_test, bag.predict(X_test)))\n"
   ]
  },
  {
   "cell_type": "markdown",
   "id": "0954ae43",
   "metadata": {},
   "source": [
    "\n",
    "## 3. Entendendo o Random Forest\n",
    "\n",
    "Random Forest é um conjunto de árvores de decisão. Cada árvore é treinada em uma amostra bootstrap\n",
    "e usa subconjuntos aleatórios de features em cada divisão.\n"
   ]
  },
  {
   "cell_type": "markdown",
   "id": "a43b85c5",
   "metadata": {},
   "source": [
    "\n",
    "## 4. Passo a Passo do Funcionamento\n",
    "\n",
    "- **Bootstrap Sampling:** cada árvore recebe uma amostra com reposição (~63% dos dados).\n",
    "- **Treinamento:** cada árvore cresce até seus critérios de parada, sempre considerando um subconjunto aleatório de variáveis em cada divisão.\n",
    "- **Agregação:** na classificação, cada árvore vota e vence a maioria; na regressão, faz-se a média das previsões.\n"
   ]
  },
  {
   "cell_type": "markdown",
   "id": "ad2b15d1",
   "metadata": {},
   "source": [
    "\n",
    "## 5. Como ocorre a previsão?\n",
    "\n",
    "Na classificação, cada árvore vota pela sua classe e a decisão final é dada pela maioria.\n",
    "Na regressão, tira-se a média das previsões das árvores.\n"
   ]
  },
  {
   "cell_type": "code",
   "execution_count": null,
   "id": "ba98593d",
   "metadata": {},
   "outputs": [
    {
     "name": "stdout",
     "output_type": "stream",
     "text": [
      "Random Forest - Acurácia: 0.94\n",
      "OOB Score: 0.9007036747458952\n"
     ]
    }
   ],
   "source": [
    "rf = RandomForestClassifier(\n",
    "    n_estimators=100,\n",
    "    max_features='sqrt',\n",
    "    oob_score=True,\n",
    "    random_state=42\n",
    ")\n",
    "rf.fit(X_train, y_train)\n",
    "y_pred = rf.predict(X_test)\n",
    "\n",
    "print(f\"Random Forest - Acurácia: {accuracy_score(y_test, y_pred):.2f}\")\n",
    "print(\"OOB Score:\", rf.oob_score_)\n"
   ]
  },
  {
   "cell_type": "markdown",
   "id": "1ce209b1",
   "metadata": {},
   "source": [
    "\n",
    "## 6. Importância das Features\n",
    "\n",
    "Random Forest mede o quanto cada variável reduz o erro ao ser usada para dividir os dados.\n",
    "A seguir, vemos a importância relativa de cada variável para o modelo.\n"
   ]
  },
  {
   "cell_type": "code",
   "execution_count": null,
   "id": "5c5f5eea",
   "metadata": {},
   "outputs": [
    {
     "data": {
      "image/png": "[encoded data removed]",
      "text/plain": [
       "<Figure size 1000x600 with 1 Axes>"
      ]
     },
     "metadata": {},
     "output_type": "display_data"
    }
   ],
   "source": [
    "\n",
    "importances = rf.feature_importances_\n",
    "feat_imp = pd.Series(importances, index=X.columns).sort_values(ascending=False)\n",
    "\n",
    "plt.figure(figsize=(10,6))\n",
    "sns.barplot(x=feat_imp, y=feat_imp.index)\n",
    "plt.title(\"Importância das Features\")\n",
    "plt.show()"
   ]
  },
  {
   "cell_type": "markdown",
   "id": "7cd022d5",
   "metadata": {},
   "source": [
    "\n",
    "## 7. Hiperparâmetros Importantes\n",
    "\n",
    "- **n_estimators**: número de árvores.\n",
    "- **max_features**: número de features por split.\n",
    "- **max_depth**: profundidade máxima das árvores.\n",
    "- **min_samples_leaf**: mínimo de amostras em cada folha."
   ]
  },
  {
   "cell_type": "code",
   "execution_count": null,
   "id": "cced264a",
   "metadata": {},
   "outputs": [
    {
     "name": "stdout",
     "output_type": "stream",
     "text": [
      "Melhores parâmetros: {'max_depth': None, 'n_estimators': 200}\n",
      "Melhor accuracy (CV): 0.8889805133166943\n"
     ]
    }
   ],
   "source": [
    "\n",
    "param_grid = {\n",
    "    \"n_estimators\": [50, 100, 200],\n",
    "    \"max_depth\": [None, 10, 20]\n",
    "}\n",
    "grid = GridSearchCV(\n",
    "    RandomForestClassifier(max_features='sqrt', oob_score=True, random_state=42),\n",
    "    param_grid,\n",
    "    cv=3,\n",
    "    scoring=\"accuracy\",\n",
    "    n_jobs=-1\n",
    ")\n",
    "grid.fit(X_train, y_train)\n",
    "print(\"Melhores parâmetros:\", grid.best_params_)\n",
    "print(\"Melhor accuracy (CV):\", grid.best_score_)\n"
   ]
  },
  {
   "cell_type": "markdown",
   "id": "faf5c164",
   "metadata": {},
   "source": [
    "## Análise Crítica dos Resultados\n",
    "\n",
    "Após todo o processo de pré-processamento, criação de novas features e treinamento do modelo Random Forest, avaliamos os resultados obtidos e destacamos alguns pontos importantes:\n",
    "\n",
    "- **Desempenho Geral:**  \n",
    "  O modelo apresentou uma acurácia consistente nos dados de teste, indicando boa capacidade de generalização para novos exemplos. Além da acurácia, as métricas de precisão, recall e F1-Score também mostraram resultados satisfatórios, o que sugere que o modelo não está enviesado para uma classe específica.\n",
    "\n",
    "- **Importância das Variáveis:**  \n",
    "  A análise da importância das features revelou que variáveis como `alcohol`, `volatile acidity` e `sulphates` têm forte influência na classificação final da qualidade do vinho, o que está alinhado com a literatura e estudos prévios sobre este dataset.\n",
    "\n",
    "- **Vantagens observadas:**  \n",
    "  O Random Forest demonstrou robustez contra overfitting devido ao uso de múltiplas árvores e amostras diferentes de dados, além de ser capaz de lidar bem com variáveis numéricas sem necessidade de normalização.\n",
    "\n",
    "- **Limitações e Possíveis Melhorias:**  \n",
    "  Apesar dos bons resultados, observamos que:\n",
    "    - O modelo pode ter dificuldades para distinguir entre classes próximas (por exemplo, vinhos de qualidade 6 e 7), algo evidenciado pela matriz de confusão.\n",
    "    - Poderíamos testar outros modelos (como Gradient Boosting ou SVM) para comparar a performance.\n",
    "    - Outras estratégias de feature engineering, como combinação de variáveis ou uso de técnicas de seleção de features, poderiam ser exploradas para tentar melhorar ainda mais o desempenho.\n",
    "    - Um ajuste mais fino dos hiperparâmetros (como número de árvores, profundidade máxima e mínimo de amostras por folha) também pode contribuir para resultados melhores.\n",
    "\n",
    "- **Conclusão:**  \n",
    "  O projeto permitiu aplicar na prática todo o pipeline de Machine Learning, desde a análise exploratória até a avaliação do modelo. O Random Forest se mostrou uma excelente escolha para este tipo de problema, trazendo resultados interpretáveis e robustos.\n"
   ]
  }
 ],
 "metadata": {
  "kernelspec": {
   "display_name": "Python 3",
   "language": "python",
   "name": "python3"
  },
  "language_info": {
   "codemirror_mode": {
    "name": "ipython",
    "version": 3
   },
   "file_extension": ".py",
   "mimetype": "text/x-python",
   "name": "python",
   "nbconvert_exporter": "python",
   "pygments_lexer": "ipython3",
   "version": "3.11.9"
  }
 },
 "nbformat": 4,
 "nbformat_minor": 5
}
